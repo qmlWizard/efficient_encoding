{
 "cells": [
  {
   "cell_type": "code",
   "execution_count": 28,
   "metadata": {},
   "outputs": [],
   "source": [
    "import pennylane as qml\n",
    "from pennylane import numpy as np"
   ]
  },
  {
   "cell_type": "code",
   "execution_count": 27,
   "metadata": {},
   "outputs": [],
   "source": [
    "a = [[0.66554315], [0.66554315, 0.81540048], [0.73839569, 0.82715646, 0.76431838, 0.90401019]]"
   ]
  },
  {
   "cell_type": "code",
   "execution_count": 30,
   "metadata": {},
   "outputs": [],
   "source": [
    "dev = qml.device(\"default.qubit\", wires=3)"
   ]
  },
  {
   "cell_type": "code",
   "execution_count": null,
   "metadata": {},
   "outputs": [],
   "source": [
    "@qml.qnode(dev)\n",
    "def circuit():\n",
    "\n",
    "    qml.RY(np.pi, wires=[0])\n",
    "\n",
    "    qml.CRY(np.pi / 2, wires=[0, 1])\n",
    "\n",
    "    qml.X(wires=[1])\n",
    "    qml.CRY(np.pi / 2, wires=[0, 1])\n",
    "    qml.X(wires=[1])\n",
    "\n",
    "    qml.ctrl(qml.RX, control=[0, 1])(np.pi / 4, wires=2)\n",
    "\n",
    "    qml.X(wires=[1])\n",
    "    qml.ctrl(qml.RX, control=[0, 1])(np.pi / 4, wires=2)\n",
    "    qml.X(wires=[1])\n",
    "\n",
    "    qml.X(wires=[0])\n",
    "    qml.ctrl(qml.RX, control=[0, 1])(np.pi / 4, wires=2)\n",
    "    qml.X(wires=[0])\n",
    "\n",
    "    qml.X(wires=[0])\n",
    "    qml.X(wires=[1])\n",
    "    qml.ctrl(qml.RX, control=[0, 1])(np.pi / 4, wires=2)\n",
    "    qml.X(wires=[0])\n",
    "    qml.X(wires=[1])\n",
    "\n",
    "    return qml.state()\n",
    "    "
   ]
  },
  {
   "cell_type": "code",
   "execution_count": 36,
   "metadata": {},
   "outputs": [
    {
     "name": "stdout",
     "output_type": "stream",
     "text": [
      "0: ──RY(3.14)─╭●───────────╭●───────────╭●───────────╭●─────────X─╭●─────────X──X─╭●─────────X─┤\n",
      "1: ───────────╰RY(1.57)──X─╰RY(1.57)──X─├●─────────X─├●─────────X─├●─────────X────├●─────────X─┤\n",
      "2: ─────────────────────────────────────╰RX(0.79)────╰RX(0.79)────╰RX(0.79)───────╰RX(0.79)────┤\n",
      "\n",
      "   State\n",
      "   State\n",
      "   State\n"
     ]
    }
   ],
   "source": [
    "drawer = qml.draw(circuit)\n",
    "print(drawer())"
   ]
  },
  {
   "cell_type": "code",
   "execution_count": 39,
   "metadata": {},
   "outputs": [
    {
     "name": "stdout",
     "output_type": "stream",
     "text": [
      "\n",
      "Final Statevector:\n",
      "State |000>: Amplitude = (5.657130561438501e-17+0j)\n",
      "State |001>: Amplitude = -2.3432602026631493e-17j\n",
      "State |010>: Amplitude = 0j\n",
      "State |011>: Amplitude = 0j\n",
      "State |100>: Amplitude = (0.9238795325112867+0j)\n",
      "State |101>: Amplitude = -0.3826834323650898j\n",
      "State |110>: Amplitude = 0j\n",
      "State |111>: Amplitude = 0j\n"
     ]
    }
   ],
   "source": [
    "# Execute the circuit\n",
    "state = circuit()\n",
    "\n",
    "# Print the resulting quantum state\n",
    "print(\"\\nFinal Statevector:\")\n",
    "for idx, amp in enumerate(state):\n",
    "    print(f\"State |{idx:03b}>: Amplitude = {amp}\")"
   ]
  },
  {
   "cell_type": "code",
   "execution_count": 41,
   "metadata": {},
   "outputs": [
    {
     "name": "stdout",
     "output_type": "stream",
     "text": [
      "\n",
      "Final Statevector:\n",
      "State |000>: Amplitude = (0.983121289665021+0j)\n",
      "State |001>: Amplitude = (0.18295499393945458+0j)\n",
      "State |010>: Amplitude = 0j\n",
      "State |011>: Amplitude = 0j\n",
      "State |100>: Amplitude = 0j\n",
      "State |101>: Amplitude = 0j\n",
      "State |110>: Amplitude = 0j\n",
      "State |111>: Amplitude = 0j\n"
     ]
    }
   ],
   "source": [
    "import pennylane as qml\n",
    "from pennylane import numpy as np\n",
    "\n",
    "# Grayscale values for a 2x2 image\n",
    "grayscale_values = np.array([64, 128, 192, 255])\n",
    "M = 256\n",
    "\n",
    "# Normalize the grayscale values to amplitudes\n",
    "norm_factor = np.sqrt(np.sum(grayscale_values**2))\n",
    "alphas = grayscale_values / norm_factor\n",
    "\n",
    "# Define device\n",
    "dev = qml.device(\"default.qubit\", wires=3)\n",
    "\n",
    "@qml.qnode(dev)\n",
    "def naqss():\n",
    "    # Encode pixel (0, 0)\n",
    "    qml.RY(2 * np.arcsin(alphas[0]), wires=2)\n",
    "\n",
    "    # Encode pixel (0, 1)\n",
    "    qml.ctrl(qml.RY, control=[0])(2 * np.arcsin(alphas[1]), wires=2)\n",
    "\n",
    "    # Encode pixel (1, 0)\n",
    "    qml.ctrl(qml.RY, control=[1])(2 * np.arcsin(alphas[2]), wires=2)\n",
    "\n",
    "    # Encode pixel (1, 1)\n",
    "    qml.ctrl(qml.RY, control=[0, 1])(2 * np.arcsin(alphas[3]), wires=2)\n",
    "\n",
    "    return qml.state()\n",
    "\n",
    "# Execute and visualize the state\n",
    "state = naqss()\n",
    "print(\"\\nFinal Statevector:\")\n",
    "for idx, amp in enumerate(state):\n",
    "    print(f\"State |{idx:03b}>: Amplitude = {amp}\")\n"
   ]
  },
  {
   "cell_type": "code",
   "execution_count": null,
   "metadata": {},
   "outputs": [],
   "source": []
  }
 ],
 "metadata": {
  "kernelspec": {
   "display_name": ".venv",
   "language": "python",
   "name": "python3"
  },
  "language_info": {
   "codemirror_mode": {
    "name": "ipython",
    "version": 3
   },
   "file_extension": ".py",
   "mimetype": "text/x-python",
   "name": "python",
   "nbconvert_exporter": "python",
   "pygments_lexer": "ipython3",
   "version": "3.12.3"
  }
 },
 "nbformat": 4,
 "nbformat_minor": 2
}
