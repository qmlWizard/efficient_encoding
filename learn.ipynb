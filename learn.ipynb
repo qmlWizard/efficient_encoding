{
 "cells": [
  {
   "cell_type": "code",
   "execution_count": 30,
   "metadata": {},
   "outputs": [
    {
     "name": "stdout",
     "output_type": "stream",
     "text": [
      "Quantum Circuit:\n",
      "                     ░      ┌───┐      ░     ┌───┐     ░     ┌───┐           ░ »\n",
      "q_0: ────────────────░──────┤ X ├──────░─────┤ X ├─────░─────┤ X ├───────────░─»\n",
      "                     ░      └───┘      ░     ├───┤     ░     ├───┤     ┌───┐ ░ »\n",
      "q_1: ────────────────░─────────────────░─────┤ X ├─────░─────┤ X ├─────┤ X ├─░─»\n",
      "     ┌─────────────┐ ░ ┌─────────────┐ ░ ┌───┴───┴───┐ ░ ┌───┴───┴────┐└───┘ ░ »\n",
      "q_2: ┤ Ry(0.36409) ├─░─┤ Ry(0.74717) ├─░─┤ Ry(1.162) ├─░─┤ Ry(1.6364) ├──────░─»\n",
      "     └─────────────┘ ░ └─────────────┘ ░ └───────────┘ ░ └────────────┘      ░ »\n",
      "«     ┌───┐\n",
      "«q_0: ┤ X ├\n",
      "«     ├───┤\n",
      "«q_1: ┤ X ├\n",
      "«     └───┘\n",
      "«q_2: ─────\n",
      "«          \n"
     ]
    },
    {
     "ename": "QiskitError",
     "evalue": "'No statevector for experiment \"None\"'",
     "output_type": "error",
     "traceback": [
      "\u001b[0;31m---------------------------------------------------------------------------\u001b[0m",
      "\u001b[0;31mKeyError\u001b[0m                                  Traceback (most recent call last)",
      "File \u001b[0;32m~/Documents/developer/efficient_encoding/.venv/lib/python3.12/site-packages/qiskit/result/result.py:309\u001b[0m, in \u001b[0;36mResult.get_statevector\u001b[0;34m(self, experiment, decimals)\u001b[0m\n\u001b[1;32m    307\u001b[0m \u001b[38;5;28;01mtry\u001b[39;00m:\n\u001b[1;32m    308\u001b[0m     \u001b[38;5;28;01mreturn\u001b[39;00m postprocess\u001b[38;5;241m.\u001b[39mformat_statevector(\n\u001b[0;32m--> 309\u001b[0m         \u001b[38;5;28;43mself\u001b[39;49m\u001b[38;5;241;43m.\u001b[39;49m\u001b[43mdata\u001b[49m\u001b[43m(\u001b[49m\u001b[43mexperiment\u001b[49m\u001b[43m)\u001b[49m\u001b[43m[\u001b[49m\u001b[38;5;124;43m\"\u001b[39;49m\u001b[38;5;124;43mstatevector\u001b[39;49m\u001b[38;5;124;43m\"\u001b[39;49m\u001b[43m]\u001b[49m, decimals\u001b[38;5;241m=\u001b[39mdecimals\n\u001b[1;32m    310\u001b[0m     )\n\u001b[1;32m    311\u001b[0m \u001b[38;5;28;01mexcept\u001b[39;00m \u001b[38;5;167;01mKeyError\u001b[39;00m \u001b[38;5;28;01mas\u001b[39;00m ex:\n",
      "\u001b[0;31mKeyError\u001b[0m: 'statevector'",
      "\nThe above exception was the direct cause of the following exception:\n",
      "\u001b[0;31mQiskitError\u001b[0m                               Traceback (most recent call last)",
      "Cell \u001b[0;32mIn[30], line 49\u001b[0m\n\u001b[1;32m     47\u001b[0m transpiled_circuit \u001b[38;5;241m=\u001b[39m transpile(qc, simulator)  \u001b[38;5;66;03m# Transpile for the simulator\u001b[39;00m\n\u001b[1;32m     48\u001b[0m result \u001b[38;5;241m=\u001b[39m simulator\u001b[38;5;241m.\u001b[39mrun(transpiled_circuit)\u001b[38;5;241m.\u001b[39mresult()\n\u001b[0;32m---> 49\u001b[0m statevector \u001b[38;5;241m=\u001b[39m \u001b[43mresult\u001b[49m\u001b[38;5;241;43m.\u001b[39;49m\u001b[43mget_statevector\u001b[49m\u001b[43m(\u001b[49m\u001b[43m)\u001b[49m  \u001b[38;5;66;03m# Correct method to retrieve the statevector\u001b[39;00m\n\u001b[1;32m     51\u001b[0m \u001b[38;5;66;03m# Print the final statevector\u001b[39;00m\n\u001b[1;32m     52\u001b[0m \u001b[38;5;28mprint\u001b[39m(\u001b[38;5;124m\"\u001b[39m\u001b[38;5;130;01m\\n\u001b[39;00m\u001b[38;5;124mFinal Statevector:\u001b[39m\u001b[38;5;124m\"\u001b[39m)\n",
      "File \u001b[0;32m~/Documents/developer/efficient_encoding/.venv/lib/python3.12/site-packages/qiskit/result/result.py:312\u001b[0m, in \u001b[0;36mResult.get_statevector\u001b[0;34m(self, experiment, decimals)\u001b[0m\n\u001b[1;32m    308\u001b[0m     \u001b[38;5;28;01mreturn\u001b[39;00m postprocess\u001b[38;5;241m.\u001b[39mformat_statevector(\n\u001b[1;32m    309\u001b[0m         \u001b[38;5;28mself\u001b[39m\u001b[38;5;241m.\u001b[39mdata(experiment)[\u001b[38;5;124m\"\u001b[39m\u001b[38;5;124mstatevector\u001b[39m\u001b[38;5;124m\"\u001b[39m], decimals\u001b[38;5;241m=\u001b[39mdecimals\n\u001b[1;32m    310\u001b[0m     )\n\u001b[1;32m    311\u001b[0m \u001b[38;5;28;01mexcept\u001b[39;00m \u001b[38;5;167;01mKeyError\u001b[39;00m \u001b[38;5;28;01mas\u001b[39;00m ex:\n\u001b[0;32m--> 312\u001b[0m     \u001b[38;5;28;01mraise\u001b[39;00m QiskitError(\u001b[38;5;124mf\u001b[39m\u001b[38;5;124m'\u001b[39m\u001b[38;5;124mNo statevector for experiment \u001b[39m\u001b[38;5;124m\"\u001b[39m\u001b[38;5;132;01m{\u001b[39;00m\u001b[38;5;28mrepr\u001b[39m(experiment)\u001b[38;5;132;01m}\u001b[39;00m\u001b[38;5;124m\"\u001b[39m\u001b[38;5;124m'\u001b[39m) \u001b[38;5;28;01mfrom\u001b[39;00m \u001b[38;5;21;01mex\u001b[39;00m\n",
      "\u001b[0;31mQiskitError\u001b[0m: 'No statevector for experiment \"None\"'"
     ]
    }
   ],
   "source": [
    "from qiskit import QuantumCircuit, transpile\n",
    "from qiskit_aer import AerSimulator\n",
    "import numpy as np\n",
    "\n",
    "# Define grayscale values for the 2x2 image\n",
    "grayscale_values = [64, 128, 192, 255]\n",
    "\n",
    "# Map grayscale values to angles\n",
    "M = 256  # Number of colors\n",
    "angles = [(np.pi * (value - 1)) / (2 * (M - 1)) for value in grayscale_values]\n",
    "\n",
    "# Normalize the amplitudes\n",
    "norm_factor = np.sqrt(sum(angle**2 for angle in angles))\n",
    "amplitudes = [angle / norm_factor for angle in angles]\n",
    "\n",
    "# Create a quantum circuit with 3 qubits (2 for pixel coordinates, 1 for grayscale)\n",
    "n_qubits = 3\n",
    "qc = QuantumCircuit(n_qubits)\n",
    "\n",
    "# Encoding each amplitude into the circuit using controlled Ry gates\n",
    "# Initial state |000> for pixel (0,0)\n",
    "qc.ry(2 * np.arcsin(amplitudes[0]), 2)  # Apply Ry rotation on the grayscale qubit\n",
    "qc.barrier()  # Add a barrier to separate the operations\n",
    "\n",
    "# Controlled rotations for the other pixels\n",
    "qc.x(0)  # Flip qubit 0 (first pixel coordinate)\n",
    "qc.ry(2 * np.arcsin(amplitudes[1]), 2)  # Controlled rotation for pixel (0,1)\n",
    "qc.barrier()  # Add a barrier\n",
    "qc.x(0)  # Flip back qubit 0\n",
    "\n",
    "qc.x(1)  # Flip qubit 1 (second pixel coordinate)\n",
    "qc.ry(2 * np.arcsin(amplitudes[2]), 2)  # Controlled rotation for pixel (1,0)\n",
    "qc.barrier()  # Add a barrier\n",
    "qc.x(1)  # Flip back qubit 1\n",
    "\n",
    "qc.x([0, 1])  # Flip both qubits for pixel (1,1)\n",
    "qc.ry(2 * np.arcsin(amplitudes[3]), 2)  # Controlled rotation for pixel (1,1)\n",
    "qc.barrier()  # Add a barrier\n",
    "qc.x([0, 1])  # Flip back both qubits\n",
    "\n",
    "# Visualize the quantum circuit\n",
    "print(\"Quantum Circuit:\")\n",
    "print(qc)\n",
    "\n",
    "# Simulate the quantum state using AerSimulator\n",
    "simulator = AerSimulator(method=\"statevector\")  # Ensure statevector simulation\n",
    "transpiled_circuit = transpile(qc, simulator)  # Transpile for the simulator\n",
    "result = simulator.run(transpiled_circuit).result()\n",
    "statevector = result.get_statevector()  # Correct method to retrieve the statevector\n",
    "\n",
    "# Print the final statevector\n",
    "print(\"\\nFinal Statevector:\")\n",
    "for i, amp in enumerate(statevector):\n",
    "    print(f\"State |{i:03b}>: Amplitude = {amp}\")\n"
   ]
  },
  {
   "cell_type": "code",
   "execution_count": 29,
   "metadata": {},
   "outputs": [
    {
     "ename": "QiskitError",
     "evalue": "'No counts for experiment \"<qiskit.circuit.quantumcircuit.QuantumCircuit object at 0x72375019a510>\"'",
     "output_type": "error",
     "traceback": [
      "\u001b[0;31m---------------------------------------------------------------------------\u001b[0m",
      "\u001b[0;31mQiskitError\u001b[0m                               Traceback (most recent call last)",
      "Cell \u001b[0;32mIn[29], line 5\u001b[0m\n\u001b[1;32m      3\u001b[0m transpiled_circuit \u001b[38;5;241m=\u001b[39m transpile(qc, simulator)  \u001b[38;5;66;03m# Transpile for the simulator\u001b[39;00m\n\u001b[1;32m      4\u001b[0m result \u001b[38;5;241m=\u001b[39m simulator\u001b[38;5;241m.\u001b[39mrun(transpiled_circuit)\u001b[38;5;241m.\u001b[39mresult()\n\u001b[0;32m----> 5\u001b[0m statevector \u001b[38;5;241m=\u001b[39m \u001b[43mresult\u001b[49m\u001b[38;5;241;43m.\u001b[39;49m\u001b[43mget_counts\u001b[49m\u001b[43m(\u001b[49m\u001b[43mqc\u001b[49m\u001b[43m)\u001b[49m  \u001b[38;5;66;03m# Explicitly retrieve statevector\u001b[39;00m\n\u001b[1;32m      6\u001b[0m \u001b[38;5;28mprint\u001b[39m(result)\n\u001b[1;32m      7\u001b[0m \u001b[38;5;66;03m# Print the final statevector\u001b[39;00m\n",
      "File \u001b[0;32m~/Documents/developer/efficient_encoding/.venv/lib/python3.12/site-packages/qiskit/result/result.py:284\u001b[0m, in \u001b[0;36mResult.get_counts\u001b[0;34m(self, experiment)\u001b[0m\n\u001b[1;32m    282\u001b[0m         dict_list\u001b[38;5;241m.\u001b[39mappend(statevector\u001b[38;5;241m.\u001b[39mStatevector(vec)\u001b[38;5;241m.\u001b[39mprobabilities_dict(decimals\u001b[38;5;241m=\u001b[39m\u001b[38;5;241m15\u001b[39m))\n\u001b[1;32m    283\u001b[0m     \u001b[38;5;28;01melse\u001b[39;00m:\n\u001b[0;32m--> 284\u001b[0m         \u001b[38;5;28;01mraise\u001b[39;00m QiskitError(\u001b[38;5;124mf\u001b[39m\u001b[38;5;124m'\u001b[39m\u001b[38;5;124mNo counts for experiment \u001b[39m\u001b[38;5;124m\"\u001b[39m\u001b[38;5;132;01m{\u001b[39;00m\u001b[38;5;28mrepr\u001b[39m(key)\u001b[38;5;132;01m}\u001b[39;00m\u001b[38;5;124m\"\u001b[39m\u001b[38;5;124m'\u001b[39m)\n\u001b[1;32m    286\u001b[0m \u001b[38;5;66;03m# Return first item of dict_list if size is 1\u001b[39;00m\n\u001b[1;32m    287\u001b[0m \u001b[38;5;28;01mif\u001b[39;00m \u001b[38;5;28mlen\u001b[39m(dict_list) \u001b[38;5;241m==\u001b[39m \u001b[38;5;241m1\u001b[39m:\n",
      "\u001b[0;31mQiskitError\u001b[0m: 'No counts for experiment \"<qiskit.circuit.quantumcircuit.QuantumCircuit object at 0x72375019a510>\"'"
     ]
    }
   ],
   "source": [
    "# Simulate the quantum state using AerSimulator\n",
    "simulator = AerSimulator(method=\"statevector\")  # Ensure statevector simulation\n",
    "transpiled_circuit = transpile(qc, simulator)  # Transpile for the simulator\n",
    "result = simulator.run(transpiled_circuit).result()\n",
    "statevector = result.get_counts(qc)  # Explicitly retrieve statevector\n",
    "print(result)\n",
    "# Print the final statevector\n",
    "print(\"\\nFinal Statevector:\")\n",
    "for i, amp in enumerate(statevector):\n",
    "    print(f\"State |{i:03b}>: Amplitude = {amp}\")"
   ]
  },
  {
   "cell_type": "code",
   "execution_count": 27,
   "metadata": {},
   "outputs": [
    {
     "data": {
      "text/plain": [
       "<bound method Result.get_counts of Result(backend_name='aer_simulator_statevector', backend_version='0.15.1', qobj_id='', job_id='945dd8b7-5779-4147-a491-7fa2d83c98b9', success=True, results=[ExperimentResult(shots=1000, success=True, meas_level=2, data=ExperimentResultData(), header=QobjExperimentHeader(creg_sizes=[], global_phase=0.0, memory_slots=0, n_qubits=3, name='circuit-192', qreg_sizes=[['q', 3]], metadata={}), status=DONE, seed_simulator=3789408716, metadata={'time_taken': 5.4071e-05, 'num_bind_params': 1, 'required_memory_mb': 1, 'input_qubit_map': [], 'method': 'statevector', 'device': 'CPU', 'num_qubits': 0, 'parallel_state_update': 36, 'active_input_qubits': [], 'num_clbits': 0, 'remapped_qubits': False, 'parallel_shots': 1, 'runtime_parameter_bind': False, 'max_memory_mb': 64164, 'measure_sampling': False, 'batched_shots_optimization': False}, time_taken=5.4071e-05)], date=2024-11-18T19:56:35.212951, status=COMPLETED, header=None, metadata={'time_taken_parameter_binding': 1.0905e-05, 'time_taken_execute': 0.000103834, 'omp_enabled': True, 'max_gpu_memory_mb': 0, 'max_memory_mb': 64164, 'parallel_experiments': 1}, time_taken=0.0016884803771972656)>"
      ]
     },
     "execution_count": 27,
     "metadata": {},
     "output_type": "execute_result"
    }
   ],
   "source": [
    "counts_statevector"
   ]
  },
  {
   "cell_type": "code",
   "execution_count": null,
   "metadata": {},
   "outputs": [],
   "source": []
  }
 ],
 "metadata": {
  "kernelspec": {
   "display_name": ".venv",
   "language": "python",
   "name": "python3"
  },
  "language_info": {
   "codemirror_mode": {
    "name": "ipython",
    "version": 3
   },
   "file_extension": ".py",
   "mimetype": "text/x-python",
   "name": "python",
   "nbconvert_exporter": "python",
   "pygments_lexer": "ipython3",
   "version": "3.12.3"
  }
 },
 "nbformat": 4,
 "nbformat_minor": 2
}
